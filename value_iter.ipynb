{
 "cells": [
  {
   "cell_type": "code",
   "execution_count": 1,
   "id": "22137956",
   "metadata": {},
   "outputs": [],
   "source": [
    "import numpy as np"
   ]
  },
  {
   "cell_type": "code",
   "execution_count": 2,
   "id": "416b0889",
   "metadata": {},
   "outputs": [],
   "source": [
    "class value_iteration:\n",
    "    def __init__(self, value=np.zeros(101), prob=0.4, gamma=1.0):\n",
    "        assert isinstance(value, np.ndarray) and len(value) == 101, \"value is not a ndarray with length 101\"\n",
    "        self.value_state = np.copy(value)\n",
    "        self.value_state_pre = np.copy(value)\n",
    "        self.policy = np.zeros(101)\n",
    "        self.rewards = np.zeros(101)\n",
    "        self.rewards[100] = 1.0\n",
    "        self.prob = prob\n",
    "        self.gamma = gamma\n",
    "        \n",
    "    def bellman_update(self, curr_state):\n",
    "        if curr_state == 0 or curr_state == 100:\n",
    "            self.value_state[curr_state] = self.rewards[curr_state]\n",
    "            # stop here\n",
    "            return 0\n",
    "        max_gain = float('-inf')\n",
    "        opt_action = 0\n",
    "        for bet_amt in range(1, min(curr_state, 100-curr_state)+1):\n",
    "            gain = self.gamma * (self.prob * self.value_state[curr_state+bet_amt] + \n",
    "                 (1-self.prob) * self.value_state[curr_state-bet_amt])\n",
    "            if gain > max_gain:\n",
    "                max_gain = gain\n",
    "                opt_action = bet_amt\n",
    "        self.value_state[curr_state] = self.rewards[curr_state] + max_gain\n",
    "        return opt_action\n",
    "    \n",
    "    def value_solver(self, epsilon=1e-6, print_frequency=-1):\n",
    "        iter_num = 0\n",
    "        while iter_num == 0 or self.value_state_norm() > epsilon:\n",
    "            self.value_state_pre = np.copy(self.value_state)\n",
    "            for state in range(101):\n",
    "                #update bellman eq\n",
    "                opt_action = self.bellman_update(state)\n",
    "                self.policy[state] = int(opt_action)\n",
    "            iter_num += 1\n",
    "            if print_frequency > 0 and iter_num % print_frequency == 0:\n",
    "                print('iter:%d norm:%.4f' % (iter_num, self.value_state_norm()))\n",
    "        if print_frequency > 0:\n",
    "            print('total iter_num:%d' % (iter_num))\n",
    "        return self.value_state, self.policy\n",
    "                \n",
    "    \n",
    "    def value_state_norm(self):\n",
    "        return np.max(np.absolute(self.value_state - self.value_state_pre))\n",
    "    \n",
    "        "
   ]
  },
  {
   "cell_type": "code",
   "execution_count": 3,
   "id": "d8950b69",
   "metadata": {},
   "outputs": [],
   "source": [
    "prob = 0.55\n",
    "gamma = 1.0\n",
    "init_value = np.zeros(101)"
   ]
  },
  {
   "cell_type": "code",
   "execution_count": 6,
   "id": "ad81f7bd",
   "metadata": {},
   "outputs": [
    {
     "name": "stdout",
     "output_type": "stream",
     "text": [
      "iter:100 norm:0.0027\n",
      "iter:200 norm:0.0013\n",
      "iter:300 norm:0.0006\n",
      "iter:400 norm:0.0003\n",
      "iter:500 norm:0.0001\n",
      "iter:600 norm:0.0000\n",
      "iter:700 norm:0.0000\n",
      "iter:800 norm:0.0000\n",
      "iter:900 norm:0.0000\n",
      "iter:1000 norm:0.0000\n",
      "iter:1100 norm:0.0000\n",
      "iter:1200 norm:0.0000\n",
      "iter:1300 norm:0.0000\n",
      "iter:1400 norm:0.0000\n",
      "iter:1500 norm:0.0000\n",
      "iter:1600 norm:0.0000\n",
      "total iter_num:1629\n"
     ]
    }
   ],
   "source": [
    "#test\n",
    "c = value_iteration(value=init_value, prob=prob, gamma=gamma)\n",
    "value, policy = c.value_solver(epsilon=1e-9, print_frequency=100)"
   ]
  },
  {
   "cell_type": "code",
   "execution_count": 7,
   "id": "07a8f368",
   "metadata": {},
   "outputs": [
    {
     "data": {
      "image/png": "[encoded data removed]",
      "text/plain": [
       "<Figure size 864x864 with 2 Axes>"
      ]
     },
     "metadata": {
      "needs_background": "light"
     },
     "output_type": "display_data"
    }
   ],
   "source": [
    "import matplotlib.pyplot as plt\n",
    "\n",
    "fig=plt.figure(num=1,figsize=(12,12))\n",
    "ax1=fig.add_subplot(211)\n",
    "ax2=fig.add_subplot(212)\n",
    "\n",
    "ax1.plot(range(101), value)\n",
    "ax1.set_xlabel('Capital')\n",
    "ax1.set_ylabel('Value estimates')\n",
    "ax1.set_title('Capital vs Value estimates, gamma=%.1f, prob=%.2f' % (gamma, prob))\n",
    "\n",
    "ax2.bar(range(101), policy, align='center', alpha=0.5)\n",
    " \n",
    "ax2.set_xlabel('Capital')\n",
    "ax2.set_ylabel('Final policy (stake)')\n",
    "ax2.set_title('Capital vs Final Policy, gamma=%.1f, prob=%.2f' % (gamma, prob))\n",
    "\n",
    "plt.show()\n",
    "\n"
   ]
  },
  {
   "cell_type": "code",
   "execution_count": null,
   "id": "d219e39b",
   "metadata": {},
   "outputs": [],
   "source": []
  }
 ],
 "metadata": {
  "kernelspec": {
   "display_name": "Python [conda env:tf] *",
   "language": "python",
   "name": "conda-env-tf-py"
  },
  "language_info": {
   "codemirror_mode": {
    "name": "ipython",
    "version": 3
   },
   "file_extension": ".py",
   "mimetype": "text/x-python",
   "name": "python",
   "nbconvert_exporter": "python",
   "pygments_lexer": "ipython3",
   "version": "3.7.10"
  }
 },
 "nbformat": 4,
 "nbformat_minor": 5
}
